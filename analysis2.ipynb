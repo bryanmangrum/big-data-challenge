{
  "cells": [
    {
      "cell_type": "code",
      "execution_count": null,
      "metadata": {
        "colab": {
          "base_uri": "https://localhost:8080/"
        },
        "id": "3IQKIiU4Wzks",
        "outputId": "725e1f5d-4539-4310-824f-83849291a425"
      },
      "outputs": [],
      "source": [
        "import os\n",
        "# Find the latest version of spark 3.0  from http://www-us.apache.org/dist/spark/ and enter as the spark version\n",
        "# For example:\n",
        "spark_version = 'spark-3.0.1'\n",
        "# spark_version = 'spark-3.<spark version>'\n",
        "os.environ['SPARK_VERSION']=spark_version\n",
        "\n",
        "# Install Spark and Java\n",
        "!apt-get update\n",
        "!apt-get install openjdk-11-jdk-headless -qq > /dev/null\n",
        "!wget -q https://archive.apache.org/dist/spark/spark-3.0.1/spark-3.0.1-bin-hadoop3.2.tgz\n",
        "!tar xf $SPARK_VERSION-bin-hadoop3.2.tgz\n",
        "!pip install -q findspark\n",
        "\n",
        "# Set Environment Variables\n",
        "import os\n",
        "os.environ[\"JAVA_HOME\"] = \"/usr/lib/jvm/java-11-openjdk-amd64\"\n",
        "os.environ[\"SPARK_HOME\"] = f\"/content/{spark_version}-bin-hadoop3.2\"\n",
        "\n",
        "# Start a SparkSession\n",
        "import findspark\n",
        "findspark.init()"
      ]
    },
    {
      "cell_type": "code",
      "execution_count": null,
      "metadata": {
        "colab": {
          "base_uri": "https://localhost:8080/"
        },
        "id": "2KfV6GFxwcS5",
        "outputId": "38577f4c-f66e-4f69-a2ff-87bc19c3957e"
      },
      "outputs": [],
      "source": [
        "!wget https://jdbc.postgresql.org/download/postgresql-42.2.9.jar"
      ]
    },
    {
      "cell_type": "code",
      "execution_count": null,
      "metadata": {
        "id": "HnKQPrKkwcYc"
      },
      "outputs": [],
      "source": [
        "from pyspark.sql import SparkSession\n",
        "spark = SparkSession.builder.appName(\"CloudETL\").config(\"spark.driver.extraClassPath\",\"/content/postgresql-42.2.9.jar\").getOrCreate()"
      ]
    },
    {
      "cell_type": "code",
      "execution_count": null,
      "metadata": {
        "colab": {
          "base_uri": "https://localhost:8080/"
        },
        "id": "jOfF9cBQwci-",
        "outputId": "fa1b2370-96fa-4683-91b0-09adc8ca9303"
      },
      "outputs": [],
      "source": [
        "# Read in data from S3 Buckets\n",
        "from pyspark import SparkFiles\n",
        "url = \"https://s3.amazonaws.com/amazon-reviews-pds/tsv/amazon_reviews_us_Video_DVD_v1_00.tsv.gz\"\n",
        "spark.sparkContext.addFile(url)\n",
        "\n",
        "df = spark.read.option('header', 'true').csv(SparkFiles.get(\"amazon_reviews_us_Video_DVD_v1_00.tsv.gz\"), inferSchema=True, sep='\\t', timestampFormat=\"yyyy-mm-dd\")\n",
        "df.show()"
      ]
    },
    {
      "cell_type": "markdown",
      "metadata": {
        "id": "oOK5j30BXBNH"
      },
      "source": [
        "Number of records in dataset"
      ]
    },
    {
      "cell_type": "code",
      "execution_count": null,
      "metadata": {
        "colab": {
          "base_uri": "https://localhost:8080/"
        },
        "id": "oL8cX-8sWnlD",
        "outputId": "1282bae0-9891-4314-ce6a-6a3bbbd832be"
      },
      "outputs": [],
      "source": [
        "df.count()"
      ]
    },
    {
      "cell_type": "code",
      "execution_count": null,
      "metadata": {
        "colab": {
          "base_uri": "https://localhost:8080/"
        },
        "id": "gl8pUDGrWnoa",
        "outputId": "0b2af1a0-0aa8-4e7e-f4a3-dac18419e212"
      },
      "outputs": [],
      "source": [
        "#drop nulls\n",
        "df = df.dropna()\n",
        "\n",
        "df.count()"
      ]
    },
    {
      "cell_type": "markdown",
      "metadata": {
        "id": "Pt37VORbXUVD"
      },
      "source": [
        "check datatypes of dataset to fit tables in schema\n",
        "\n"
      ]
    },
    {
      "cell_type": "code",
      "execution_count": null,
      "metadata": {
        "colab": {
          "base_uri": "https://localhost:8080/"
        },
        "id": "TaQ7ikX4WnrQ",
        "outputId": "da65e189-f038-4335-9dba-8e3af45297ba"
      },
      "outputs": [],
      "source": [
        "#print schema\n",
        "df.printSchema()"
      ]
    },
    {
      "cell_type": "markdown",
      "metadata": {
        "id": "iGOdVd0BX0Na"
      },
      "source": [
        "creating review_id table"
      ]
    },
    {
      "cell_type": "code",
      "execution_count": null,
      "metadata": {
        "colab": {
          "base_uri": "https://localhost:8080/"
        },
        "id": "gYVXyMPvWnwY",
        "outputId": "7c251040-5d8e-4320-bfee-d70eb8add2ee"
      },
      "outputs": [],
      "source": [
        "#create review_df to match review_id table\n",
        "\n",
        "review_df = df.select(['review_id', 'customer_id', 'product_id', 'product_parent', 'review_date'])\n",
        "\n",
        "review_df.show(5)"
      ]
    },
    {
      "cell_type": "code",
      "execution_count": null,
      "metadata": {
        "colab": {
          "base_uri": "https://localhost:8080/"
        },
        "id": "XH_xIWAXWnzo",
        "outputId": "6aa27741-2a58-4ec2-ff2b-da3e7d93ca98"
      },
      "outputs": [],
      "source": [
        "#print schema\n",
        "\n",
        "review_df.printSchema()"
      ]
    },
    {
      "cell_type": "markdown",
      "metadata": {
        "id": "rfY6YnPLYSff"
      },
      "source": [
        "creating products table"
      ]
    },
    {
      "cell_type": "code",
      "execution_count": null,
      "metadata": {
        "colab": {
          "base_uri": "https://localhost:8080/"
        },
        "id": "FzXYF16IWn2J",
        "outputId": "ccf812c4-61f8-4459-dffb-f01c5c581ca9"
      },
      "outputs": [],
      "source": [
        "#create product dataframe to match products table(only unique values)\n",
        "products_df = df.select([\"product_id\",\"product_title\"])\n",
        "products_df = products_df.dropDuplicates()\n",
        "products_df.show()"
      ]
    },
    {
      "cell_type": "code",
      "execution_count": null,
      "metadata": {
        "colab": {
          "base_uri": "https://localhost:8080/"
        },
        "id": "2qSGaopkYkJY",
        "outputId": "f3255d92-dc45-4f67-a46c-5d044f7339fe"
      },
      "outputs": [],
      "source": [
        "#print schema\n",
        "\n",
        "products_df.printSchema()"
      ]
    },
    {
      "cell_type": "markdown",
      "metadata": {
        "id": "r1uZ5zWmYduv"
      },
      "source": [
        "creating customers table"
      ]
    },
    {
      "cell_type": "code",
      "execution_count": null,
      "metadata": {
        "colab": {
          "base_uri": "https://localhost:8080/"
        },
        "id": "yjGFwNe3Ycm_",
        "outputId": "e3424f97-5aa4-4f74-965a-19397d799d85"
      },
      "outputs": [],
      "source": [
        "#create customer dataframe to match customers table\n",
        "from pyspark.sql.functions import desc\n",
        "from pyspark.sql.types import TimestampType, IntegerType\n",
        "\n",
        "customers_df = df.groupby(\"customer_id\").agg({\"customer_id\":\"count\"})\n",
        "customers_df = customers_df.orderBy(desc(\"count(customer_id)\"))\n",
        "customers_df = customers_df.withColumnRenamed(\"count(customer_id)\", \"customer_count\") \n",
        "customers_df = customers_df.withColumn(\"customer_count\", customers_df[\"customer_count\"].cast(IntegerType()))\n",
        "customers_df.show()"
      ]
    },
    {
      "cell_type": "code",
      "execution_count": null,
      "metadata": {
        "colab": {
          "base_uri": "https://localhost:8080/"
        },
        "id": "MqAv0klaYckn",
        "outputId": "4779b250-c325-4fde-a138-8ebeda810815"
      },
      "outputs": [],
      "source": [
        "#print schema\n",
        "\n",
        "customers_df.printSchema()"
      ]
    },
    {
      "cell_type": "markdown",
      "metadata": {
        "id": "X96HUfLSYrLu"
      },
      "source": [
        "creating vine table"
      ]
    },
    {
      "cell_type": "code",
      "execution_count": null,
      "metadata": {
        "colab": {
          "base_uri": "https://localhost:8080/"
        },
        "id": "MbQQB9nDYciQ",
        "outputId": "2140fa64-7dd1-4f11-9c99-b4b89791f913"
      },
      "outputs": [],
      "source": [
        "#create vine dataframe to match vine_table table\n",
        "\n",
        "#load in a sql function to use columns\n",
        "from pyspark.sql.functions import col\n",
        "\n",
        "vine_df = df.select([\"review_id\",\"star_rating\",\"helpful_votes\", \"total_votes\",\"vine\"])\n",
        "\n",
        "#filter for only columns from Amazon's Vine program\n",
        "#vine_df = vine_df.filter(col(\"vine\")  == \"Y\")\n",
        "#vine_df.select(\"vine\").distinct().show()\n",
        "#no reviews part of Vine program\n",
        "\n",
        "vine_df.show() "
      ]
    },
    {
      "cell_type": "code",
      "execution_count": null,
      "metadata": {
        "colab": {
          "base_uri": "https://localhost:8080/"
        },
        "id": "V1V12w8oYb3Y",
        "outputId": "dccaf4d6-dbe0-44b0-92d5-16129b26f17d"
      },
      "outputs": [],
      "source": [
        "#print schema\n",
        "\n",
        "vine_df.printSchema()"
      ]
    },
    {
      "cell_type": "markdown",
      "metadata": {
        "id": "UIdolj55ZLOf"
      },
      "source": [
        "load dataframe to RDS"
      ]
    },
    {
      "cell_type": "code",
      "execution_count": null,
      "metadata": {
        "id": "7JV3K2RuYbu4"
      },
      "outputs": [],
      "source": [
        "# Configuration for RDS instance\n",
        "mode=\"append\"\n",
        "jdbc_url = \"jdbc:postgresql://<endpoint>:5432/video-game-db\"\n",
        "config = {\"user\":\"<username>\",\n",
        "          \"password\": \"<password>\",\n",
        "          \"driver\":\"org.postgresql.Driver\"}"
      ]
    },
    {
      "cell_type": "markdown",
      "metadata": {
        "id": "NExx6Z-Cnxef"
      },
      "source": [
        "write to data"
      ]
    },
    {
      "cell_type": "code",
      "execution_count": null,
      "metadata": {
        "colab": {
          "base_uri": "https://localhost:8080/",
          "height": 1000
        },
        "id": "vZi7dlyQYbXY",
        "outputId": "ed31b48a-c980-45c3-8f4c-5b3c150d2fc6"
      },
      "outputs": [],
      "source": [
        "#write dataframe to review_id_table table in RDS\n",
        "\n",
        "review_df.write.jdbc(url=jdbc_url, table='review_id_table', mode=mode, properties=config)"
      ]
    },
    {
      "cell_type": "code",
      "execution_count": null,
      "metadata": {
        "id": "C-Wg5FutvZvy"
      },
      "outputs": [],
      "source": [
        "#write df to products table in RDS\n",
        "\n",
        "products_df.write.jdbc(url=jdbc_url, table='products', mode=mode, properties=config)"
      ]
    },
    {
      "cell_type": "code",
      "execution_count": null,
      "metadata": {
        "id": "Cap6ym81vaKJ"
      },
      "outputs": [],
      "source": [
        "#write df to customer table in RDS\n",
        "\n",
        "\n",
        "customers_df.write.jdbc(url=jdbc_url, table='customers', mode=mode, properties=config)"
      ]
    },
    {
      "cell_type": "code",
      "execution_count": null,
      "metadata": {
        "id": "u7hlTKjEvaAD"
      },
      "outputs": [],
      "source": [
        "#write df to vine_table table in RDS\n",
        "\n",
        "vine_df.write.jdbc(url=jdbc_url, table='vine_table', mode=mode, properties=config)"
      ]
    }
  ],
  "metadata": {
    "colab": {
      "collapsed_sections": [],
      "name": "analysis2.ipynb",
      "provenance": []
    },
    "interpreter": {
      "hash": "76ce242051193ec0864ed1be52908de0774e95c926e191f67ff6212805fd103b"
    },
    "kernelspec": {
      "display_name": "Python 3.7.11 ('bryanenv')",
      "language": "python",
      "name": "python3"
    },
    "language_info": {
      "codemirror_mode": {
        "name": "ipython",
        "version": 3
      },
      "file_extension": ".py",
      "mimetype": "text/x-python",
      "name": "python",
      "nbconvert_exporter": "python",
      "pygments_lexer": "ipython3",
      "version": "3.7.11"
    },
    "orig_nbformat": 4
  },
  "nbformat": 4,
  "nbformat_minor": 0
}
